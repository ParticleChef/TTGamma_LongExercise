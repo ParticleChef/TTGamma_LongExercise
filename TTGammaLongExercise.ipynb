{
 "cells": [
  {
   "cell_type": "code",
   "execution_count": null,
   "metadata": {},
   "outputs": [],
   "source": [
    "# #If you have not already done so, you can copy the files to test the code on from here\n",
    "# # ONLY NEEDS TO BE DONE ONCE, CAN BE COMMENTED OUT WHEN YOU \n",
    "# !xrdcp root://cmseos.fnal.gov//store/user/2020/long_exercises/TTGamma/TestFiles/TTGamma_1l.root .\n",
    "# !xrdcp root://cmseos.fnal.gov//store/user/2020/long_exercises/TTGamma/TestFiles/TTbar_1l.root .\n",
    "# !xrdcp root://cmseos.fnal.gov//store/user/2020/long_exercises/TTGamma/TestFiles/WGamma.root .\n",
    "# !xrdcp root://cmseos.fnal.gov//store/user/2020/long_exercises/TTGamma/TestFiles/ZGamma.root .\n",
    "# !xrdcp root://cmseos.fnal.gov//store/user/2020/long_exercises/TTGamma/TestFiles/W4Jets.root .\n",
    "# !xrdcp root://cmseos.fnal.gov//store/user/2020/long_exercises/TTGamma/TestFiles/ZJets.root .    "
   ]
  },
  {
   "cell_type": "code",
   "execution_count": null,
   "metadata": {},
   "outputs": [],
   "source": [
    "from coffea import util, processor\n",
    "from ttgamma import TTGammaProcessor\n"
   ]
  },
  {
   "cell_type": "code",
   "execution_count": null,
   "metadata": {},
   "outputs": [],
   "source": [
    "mcEventYields = {'TTGamma_SingleLept_2016': 1000000.0,\n",
    "                 'TTbarPowheg_Semilept_2016': 1000000.0,\n",
    "                 'W4jets_2016': 1000000.0,\n",
    "                 'WGamma_01J_5f_2016': 1000000.0,\n",
    "                 'ZGamma_01J_5f_lowMass_2016': 1000000.0,\n",
    "                 'DYjetsM50_2016': 1000000.0,\n",
    "             }\n",
    "\n",
    "fileset = {'TTGamma_SingleLept_2016':['TTGamma_1l.root'],\n",
    "#            'TTbarPowheg_Semilept_2016':['TTbar_1l.root'],\n",
    "#            'W4jets_2016':['W4Jets.root'],\n",
    "#            'WGamma_01J_5f_2016':['WGamma.root'],\n",
    "#            'ZGamma_01J_5f_lowMass_2016'['ZGamma.root'],\n",
    "#            'DYjetsM50_2016':['ZJets.root'],\n",
    "        }\n"
   ]
  },
  {
   "cell_type": "code",
   "execution_count": null,
   "metadata": {},
   "outputs": [],
   "source": [
    "import time\n",
    "tstart = time.time()\n",
    "\n",
    "output = processor.run_uproot_job(fileset,\n",
    "                                  treename='Events',\n",
    "                                  processor_instance=TTGammaProcessor(mcEventYields=mcEventYields),\n",
    "                                  executor=processor.iterative_executor,\n",
    "                                  executor_args={'workers': 4, 'flatten': True},\n",
    "#                                   chunksize=1000,\n",
    "#                                   maxchunks=1,\n",
    "                                 )\n",
    "\n",
    "elapsed = time.time() - tstart\n",
    "print(\"Total time: %.1f seconds\"%elapsed)\n",
    "print(\"Total rate: %.1f events / second\"%(output['EventCount'].value/elapsed))"
   ]
  },
  {
   "cell_type": "code",
   "execution_count": null,
   "metadata": {},
   "outputs": [],
   "source": [
    "output"
   ]
  },
  {
   "cell_type": "code",
   "execution_count": null,
   "metadata": {},
   "outputs": [],
   "source": []
  }
 ],
 "metadata": {
  "kernelspec": {
   "display_name": "coffeaenv",
   "language": "python",
   "name": "coffeaenv"
  },
  "language_info": {
   "codemirror_mode": {
    "name": "ipython",
    "version": 3
   },
   "file_extension": ".py",
   "mimetype": "text/x-python",
   "name": "python",
   "nbconvert_exporter": "python",
   "pygments_lexer": "ipython3",
   "version": "3.6.5"
  }
 },
 "nbformat": 4,
 "nbformat_minor": 2
}
